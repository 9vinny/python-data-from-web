{
 "cells": [
  {
   "cell_type": "markdown",
   "metadata": {},
   "source": [
    "# Accessing Databases via Web APIs\n",
    "* * * * *"
   ]
  },
  {
   "cell_type": "code",
   "execution_count": 1,
   "metadata": {
    "collapsed": false
   },
   "outputs": [],
   "source": [
    "# Import required libraries\n",
    "import requests\n",
    "import json\n",
    "from __future__ import division\n",
    "import math\n",
    "import csv\n",
    "import matplotlib.pyplot as plt\n",
    "import time"
   ]
  },
  {
   "cell_type": "markdown",
   "metadata": {},
   "source": [
    "## 1. Constructing API GET Request\n",
    "*****\n",
    "\n",
    "In the first place, we know that every call will require us to provide:\n",
    "\n",
    "1. a base URL for the API, \n",
    "2. some authorization code or key, and \n",
    "3. a format for the response. \n",
    "\n",
    "So let's store those in some variables."
   ]
  },
  {
   "cell_type": "markdown",
   "metadata": {},
   "source": [
    "To get the base url, we can simply use the [documentation](https://developer.nytimes.com/). The New York Times has a lot of different APIs. If we scroll down, the second one is the [Article Search API](https://developer.nytimes.com/article_search_v2.json), which is what we want. From that page we can find the url. Now let's assign it to a variable."
   ]
  },
  {
   "cell_type": "code",
   "execution_count": 2,
   "metadata": {
    "collapsed": true
   },
   "outputs": [],
   "source": [
    "# set base url\n",
    "base_url = \"https://api.nytimes.com/svc/search/v2/articlesearch.json\""
   ]
  },
  {
   "cell_type": "markdown",
   "metadata": {},
   "source": [
    "For the API key, we'll use the following demonstration keys for now, but in the future, [get your own](https://developer.nytimes.com/signup), it only takes a few seconds!\n",
    "\n",
    "1. ef9055ba947dd842effe0ecf5e338af9:15:72340235\n",
    "2. 25e91a4f7ee4a54813dca78f474e45a0:15:73273810\n",
    "3. e15cea455f73cc47d6d971667e09c31c:19:44644296\n",
    "4. b931c838cdb745bbab0f213cfc16b7a5:12:44644296\n",
    "5. 1dc1475b6e7d5ff5a982804cc565cd0b:6:44644296\n",
    "6. 18046cd15e21e1b9996ddfb6dafbb578:4:44644296\n",
    "7. be8992a420bfd16cf65e8757f77a5403:8:44644296"
   ]
  },
  {
   "cell_type": "code",
   "execution_count": 3,
   "metadata": {
    "collapsed": true
   },
   "outputs": [],
   "source": [
    "# set key\n",
    "key = \"be8992a420bfd16cf65e8757f77a5403:8:44644296\""
   ]
  },
  {
   "cell_type": "markdown",
   "metadata": {},
   "source": [
    "For this particular API, the only possible response format is JSON, as we can see in the url, so we don't have to worry about that. Other common response formats are csv and xml."
   ]
  },
  {
   "cell_type": "markdown",
   "metadata": {},
   "source": [
    "Now we need to send some sort of data in the URL’s query string. This data tells the API what information we want. In our case, we want articles about Duke Ellington. Requests allows you to provide these arguments as a dictionary, using the `params` keyword argument. In addition to the search term `q`, we have to put in the `api-key` term."
   ]
  },
  {
   "cell_type": "code",
   "execution_count": 4,
   "metadata": {
    "collapsed": true
   },
   "outputs": [],
   "source": [
    "# set search parameters\n",
    "search_params = {\"q\": \"Duke Ellington\",\n",
    "                 \"api-key\": key}"
   ]
  },
  {
   "cell_type": "markdown",
   "metadata": {},
   "source": [
    "Now we're ready to make the request. We use the `.get` method from the `requests` library to make an HTTP GET Request."
   ]
  },
  {
   "cell_type": "code",
   "execution_count": 5,
   "metadata": {
    "collapsed": false
   },
   "outputs": [],
   "source": [
    "# make request\n",
    "r = requests.get(base_url, params=search_params)"
   ]
  },
  {
   "cell_type": "markdown",
   "metadata": {},
   "source": [
    "Now, we have a [response](http://docs.python-requests.org/en/latest/api/#requests.Response) object called `r`. We can get all the information we need from this object. For instance, we can see that the URL has been correctly encoded by printing the URL. Click on the link to see what happens."
   ]
  },
  {
   "cell_type": "code",
   "execution_count": 6,
   "metadata": {
    "collapsed": false
   },
   "outputs": [
    {
     "name": "stdout",
     "output_type": "stream",
     "text": [
      "https://api.nytimes.com/svc/search/v2/articlesearch.json?api-key=be8992a420bfd16cf65e8757f77a5403%3A8%3A44644296&q=Duke+Ellington\n"
     ]
    }
   ],
   "source": [
    "print(r.url)"
   ]
  },
  {
   "cell_type": "markdown",
   "metadata": {},
   "source": [
    "Click on that link to see what it returns!\n",
    "\n",
    "It's not very pleasant looking, but in the next section we will work on parsing it into something more palatable. For now let's try adding some parameters to our search."
   ]
  },
  {
   "cell_type": "markdown",
   "metadata": {},
   "source": [
    "### Challenge 1:  Adding a date range\n",
    "\n",
    "What if we only want to search within a particular date range? The NYT Article Searc API allows us to specify start and end dates.\n",
    "\n",
    "Alter the `search_params` code above so that the request only searches for articles in the year 2015. Remember, since `search_params` is a dictionary, we can simply add the new keys to it.\n",
    "\n",
    "Use the [documentation](https://developer.nytimes.com/article_search_v2.json#/Documentation/GET/articlesearch.json) to see how to format the new parameters."
   ]
  },
  {
   "cell_type": "code",
   "execution_count": 7,
   "metadata": {
    "collapsed": true
   },
   "outputs": [],
   "source": [
    "# set date parameters here"
   ]
  },
  {
   "cell_type": "code",
   "execution_count": 10,
   "metadata": {
    "collapsed": false
   },
   "outputs": [
    {
     "name": "stdout",
     "output_type": "stream",
     "text": [
      "https://api.nytimes.com/svc/search/v2/articlesearch.json?begin_date=20150101&api-key=be8992a420bfd16cf65e8757f77a5403%3A8%3A44644296&q=Duke+Ellington&end_date=20151231\n"
     ]
    }
   ],
   "source": [
    "# Uncomment to test\n",
    "# r = requests.get(base_url, params=search_params)\n",
    "# print(r.url)"
   ]
  },
  {
   "cell_type": "markdown",
   "metadata": {},
   "source": [
    "### Challenge 2:  Specifying a results page\n",
    "\n",
    "The above will return the first 10 results. To get the next ten, you need to add a \"page\" parameter. Change the search parameters above to get the second 10 results. "
   ]
  },
  {
   "cell_type": "code",
   "execution_count": 11,
   "metadata": {
    "collapsed": true
   },
   "outputs": [],
   "source": [
    "# set page parameters here"
   ]
  },
  {
   "cell_type": "code",
   "execution_count": 13,
   "metadata": {
    "collapsed": false
   },
   "outputs": [
    {
     "name": "stdout",
     "output_type": "stream",
     "text": [
      "https://api.nytimes.com/svc/search/v2/articlesearch.json?begin_date=20150101&api-key=be8992a420bfd16cf65e8757f77a5403%3A8%3A44644296&q=Duke+Ellington&end_date=20151231&page=1\n"
     ]
    }
   ],
   "source": [
    "# Uncomment to test\n",
    "# r = requests.get(base_url, params=search_params)\n",
    "# print(r.url)"
   ]
  },
  {
   "cell_type": "markdown",
   "metadata": {},
   "source": [
    "## 2. Parsing the response text\n",
    "*****"
   ]
  },
  {
   "cell_type": "markdown",
   "metadata": {},
   "source": [
    "We can read the content of the server’s response using `.text` from `requests`."
   ]
  },
  {
   "cell_type": "code",
   "execution_count": 14,
   "metadata": {
    "collapsed": false
   },
   "outputs": [
    {
     "name": "stdout",
     "output_type": "stream",
     "text": [
      "{\"status\":\"OK\",\"copyright\":\"Copyright (c) 2017 The New York Times Company. All Rights Reserved.\",\"response\":{\"docs\":[{\"web_url\":\"https://www.nytimes.com/2015/10/13/arts/dance/review-dance-heginbotham-shows-off-its-eccentric-style-at-the-joyce.html\",\"snippet\":\"John Heginbotham, a choreographer who used to perform with the Mark Morris Dance Group, drew on those years for his latest program.\",\"abstract\":\"Brian Seibert reviews New York premiere of John Heginbotham dance piece Easy Win, and company debut of Angels' Share, performed by Dance Heginbotham troupe at Joyce Theater. \",\"print_page\":\"5\",\"blog\":{},\"source\":\"The New York Times\",\"multimedia\":[{\"type\":\"image\",\"subtype\":\"wide\",\"url\":\"images/2015/10/13/arts/13HIGGENBOTTOM/13HIGGENBOTTOM-thumbWide-v2.jpg\",\"height\":126,\"width\":190,\"rank\":0,\"legacy\":{\"wide\":\"images/2015/10/13/arts/13HIGGENBOTTOM/13HIGGENBOTTOM-thumbWide-v2.jpg\",\"wideheight\":\"126\",\"widewidth\":\"190\"}},{\"type\":\"image\",\"subtype\":\"xlarge\",\"url\":\"images/2015/10/13/arts/13HIGGENBO\n"
     ]
    }
   ],
   "source": [
    "# Inspect the content of the response, parsing the result as text\n",
    "response_text = r.text\n",
    "print(response_text[:1000])"
   ]
  },
  {
   "cell_type": "markdown",
   "metadata": {},
   "source": [
    "What you see here is JSON text, encoded as unicode text. JSON stands for \"Javascript object notation.\" It has a very similar structure to a python dictionary -- both are built on key/value pairs. This makes it easy to convert JSON response to a python dictionary. We do this with the `json.loads()` function."
   ]
  },
  {
   "cell_type": "code",
   "execution_count": 15,
   "metadata": {
    "collapsed": false
   },
   "outputs": [
    {
     "name": "stdout",
     "output_type": "stream",
     "text": [
      "{'copyright': 'Copyright (c) 2017 The New York Times Company. All Rights Reserved.', 'response': {'docs': [{'keywords': [{'name': 'subject', 'value': 'Dancing', 'isMajor': None, 'rank': 1}, {'name': 'persons', 'value': 'Heginbotham, John', 'isMajor': None, 'rank': 2}, {'name': 'organizations', 'value': 'Joyce Theater', 'isMajor': None, 'rank': 3}, {'name': 'organizations', 'value': 'Dance Heginbotham', 'isMajor': None, 'rank': 4}], 'new_desk': 'Culture', 'abstract': \"Brian Seibert reviews New York premiere of John Heginbotham dance piece Easy Win, and company debut of Angels' Share, performed by Dance Heginbotham troupe at Joyce Theater. \", 'word_count': 371, 'document_type': 'article', 'source': 'The New York Times', '_id': '561c30a038f0d84d2f3b8a88', 'web_url': 'https://www.nytimes.com/2015/10/13/arts/dance/review-dance-heginbotham-shows-off-its-eccentric-style-at-the-joyce.html', 'headline': {'print_headline': 'Mixing Whimsy and Sadness', 'main': 'Review: Dance Heginbotham Shows Off Its Eccentric Style at the Joyce'}, 'pub_date': '2015-10-13T00:00:00Z', 'type_of_material': 'Review', 'section_name': 'Dance', 'snippet': 'John Heginbotham, a choreographer who used to perform with the Mark Morris Dance Group, drew on those years for his latest program.', 'blog': {}, 'score': 2.3436928e-27, 'byline': {'original': 'By BRIAN SEIBERT'}, 'print_page': '5', 'multimedia': [{'width': 190, 'rank': 0, 'height': 126, 'subtype': 'wide', 'url': 'images/2015/10/13/arts/13HIGGENBOTTOM/13HIGGENBOTTOM-thumbWide-v2.jpg', 'legacy': {'wideheight': '126', 'wide': 'images/2015/10/13/arts/13HIGGENBOTTOM/13HIGGENBOTTOM-thumbWide-v2.jpg', 'widewidth': '190'}, 'type': 'image'}, {'width': 600, 'rank': 0, 'height': 401, 'subtype': 'xlarge', 'url': 'images/2015/10/13/arts/13HIGGENBOTTOM/13HIGGENBOTTOM-articleLarge-v2.jpg', 'legacy': {'xlargewidth': '600', 'xlargeheight': '401', 'xlarge': 'images/2015/10/13/arts/13HIGGENBOTTOM/13HIGGENBOTTOM-articleLarge-v2.jpg'}, 'type': 'image'}, {'width': 75, 'rank': 0, 'height': 75, 'subtype': 'thumbnail', 'url': 'images/2015/10/13/arts/13HIGGENBOTTOM/13HIGGENBOTTOM-thumbStandard-v2.jpg', 'legacy': {'thumbnailwidth': '75', 'thumbnail': 'images/2015/10/13/arts/13HIGGENBOTTOM/13HIGGENBOTTOM-thumbStandard-v2.jpg', 'thumbnailheight': '75'}, 'type': 'image'}]}, {'keywords': [{'name': 'subject', 'value': 'Football', 'isMajor': None, 'rank': 1}, {'name': 'subject', 'value': 'Fantasy Sports', 'isMajor': None, 'rank': 2}], 'new_desk': 'Sports', 'word_count': 3078, 'headline': {'main': 'Fantasy Football Week 6: Rankings and Matchup Analysis'}, 'multimedia': [{'width': 190, 'rank': 0, 'height': 126, 'subtype': 'wide', 'url': 'images/2015/10/17/sports/17fantasy1/17fantasy1-thumbWide.jpg', 'legacy': {'wideheight': '126', 'wide': 'images/2015/10/17/sports/17fantasy1/17fantasy1-thumbWide.jpg', 'widewidth': '190'}, 'type': 'image'}, {'width': 600, 'rank': 0, 'height': 399, 'subtype': 'xlarge', 'url': 'images/2015/10/17/sports/17fantasy1/17fantasy1-articleLarge.jpg', 'legacy': {'xlargewidth': '600', 'xlargeheight': '399', 'xlarge': 'images/2015/10/17/sports/17fantasy1/17fantasy1-articleLarge.jpg'}, 'type': 'image'}, {'width': 75, 'rank': 0, 'height': 75, 'subtype': 'thumbnail', 'url': 'images/2015/10/17/sports/17fantasy1/17fantasy1-thumbStandard.jpg', 'legacy': {'thumbnailwidth': '75', 'thumbnail': 'images/2015/10/17/sports/17fantasy1/17fantasy1-thumbStandard.jpg', 'thumbnailheight': '75'}, 'type': 'image'}], '_id': '5620f27f38f0d84dbbafe2d5', 'web_url': 'https://www.nytimes.com/2015/10/17/sports/fantasy-football-week-6-rankings-and-matchup-analysis.html', 'document_type': 'article', 'pub_date': '2015-10-17T00:00:00Z', 'type_of_material': 'News', 'section_name': 'Pro Football', 'snippet': 'Le’Veon Bell may have proven to be the best fantasy pick of the first round. More on this, and fantasy football notes for every remaining Week 6 game.', 'blog': {}, 'score': 1.4491984e-27, 'byline': {'original': 'By JASON SABLICH and JUSTIN SABLICH'}, 'source': 'The New York Times'}, {'keywords': [{'name': 'subject', 'value': 'Football', 'isMajor': None, 'rank': 1}, {'name': 'subject', 'value': 'Fantasy Sports', 'isMajor': None, 'rank': 2}, {'name': 'persons', 'value': 'Freeman, Devonta (1992- )', 'isMajor': None, 'rank': 3}], 'new_desk': 'Sports', 'word_count': 2909, 'headline': {'main': 'Fantasy Football Week 5: Rankings and Matchup Analysis'}, 'multimedia': [{'width': 190, 'rank': 0, 'height': 126, 'subtype': 'wide', 'url': 'images/2015/10/10/sports/10fantasy1/10fantasy1-thumbWide.jpg', 'legacy': {'wideheight': '126', 'wide': 'images/2015/10/10/sports/10fantasy1/10fantasy1-thumbWide.jpg', 'widewidth': '190'}, 'type': 'image'}, {'width': 600, 'rank': 0, 'height': 400, 'subtype': 'xlarge', 'url': 'images/2015/10/10/sports/10fantasy1/10fantasy1-articleLarge.jpg', 'legacy': {'xlargewidth': '600', 'xlargeheight': '400', 'xlarge': 'images/2015/10/10/sports/10fantasy1/10fantasy1-articleLarge.jpg'}, 'type': 'image'}, {'width': 75, 'rank': 0, 'height': 75, 'subtype': 'thumbnail', 'url': 'images/2015/10/10/sports/10fantasy1/10fantasy1-thumbStandard.jpg', 'legacy': {'thumbnailwidth': '75', 'thumbnail': 'images/2015/10/10/sports/10fantasy1/10fantasy1-thumbStandard.jpg', 'thumbnailheight': '75'}, 'type': 'image'}], '_id': '5618111e38f0d814e13702e1', 'web_url': 'https://www.nytimes.com/2015/10/10/sports/football/fantasy-football-week-5-rankings-and-matchup-analysis.html', 'document_type': 'article', 'pub_date': '2015-10-10T00:00:00Z', 'type_of_material': 'News', 'section_name': 'Pro Football', 'snippet': 'Is Devonta Freeman for real? More on this, and fantasy football notes for every remaining Week 5 game.', 'blog': {}, 'score': 5.6799815e-28, 'byline': {'original': 'By JASON SABLICH and JUSTIN SABLICH'}, 'source': 'The New York Times'}, {'keywords': [{'name': 'subject', 'value': 'Deaths (Obituaries)', 'isMajor': None, 'rank': 1}, {'name': 'subject', 'value': 'Jazz', 'isMajor': None, 'rank': 2}, {'name': 'subject', 'value': 'Saxophones', 'isMajor': None, 'rank': 3}, {'name': 'persons', 'value': 'Woods, Phil (1931-2015)', 'isMajor': None, 'rank': 4}], 'new_desk': 'Culture', 'abstract': 'Phil Woods, a leading alto saxophonist in the generation that followed Charlie Parker, and who became a protegee of the bebop pioneer Dizzy Gillespie in the 1950s, ultimately winning four Grammy Awards and a Living Jazz Legend Award from the Kennedy Center, dies at age 83. ', 'word_count': 724, 'document_type': 'article', 'source': 'The New York Times', '_id': '560b30a238f0d84e27991244', 'web_url': 'https://www.nytimes.com/2015/09/30/arts/music/phil-woods-saxophonist-revered-in-jazz-dies-at-83.html', 'headline': {'print_headline': 'Phil Woods, Saxophonist Revered in Jazz, Dies at 83', 'main': 'Phil Woods, Saxophonist Revered in Jazz and Heard on Hits, Dies at 83'}, 'pub_date': '2015-09-30T00:00:00Z', 'type_of_material': 'Obituary', 'section_name': 'Music', 'snippet': 'Mr. Woods was a disciple of Charlie Parker and was widely heard on songs by Billy Joel, Paul Simon and others.', 'blog': {}, 'score': 1.594453e-28, 'byline': {'original': 'By NATE CHINEN'}, 'print_page': '18', 'multimedia': [{'width': 190, 'rank': 0, 'height': 126, 'subtype': 'wide', 'url': 'images/2015/09/30/arts/30woods-obit/30woods-obit-thumbWide.jpg', 'legacy': {'wideheight': '126', 'wide': 'images/2015/09/30/arts/30woods-obit/30woods-obit-thumbWide.jpg', 'widewidth': '190'}, 'type': 'image'}, {'width': 600, 'rank': 0, 'height': 900, 'subtype': 'xlarge', 'url': 'images/2015/09/30/arts/30woods-obit/30woods-obit-articleLarge.jpg', 'legacy': {'xlargewidth': '600', 'xlargeheight': '900', 'xlarge': 'images/2015/09/30/arts/30woods-obit/30woods-obit-articleLarge.jpg'}, 'type': 'image'}, {'width': 75, 'rank': 0, 'height': 75, 'subtype': 'thumbnail', 'url': 'images/2015/09/30/arts/30woods-obit/30woods-obit-thumbStandard.jpg', 'legacy': {'thumbnailwidth': '75', 'thumbnail': 'images/2015/09/30/arts/30woods-obit/30woods-obit-thumbStandard.jpg', 'thumbnailheight': '75'}, 'type': 'image'}]}, {'keywords': [{'name': 'subject', 'value': 'Music', 'isMajor': None, 'rank': 1}, {'name': 'subject', 'value': 'Jazz', 'isMajor': None, 'rank': 2}], 'new_desk': 'Weekend', 'word_count': 1769, 'headline': {'print_headline': 'The Listings: Jazz', 'main': 'Jazz Listings for Oct. 2-8'}, 'source': 'The New York Times', '_id': '560db8bb38f0d81aa77a51d2', 'web_url': 'https://www.nytimes.com/2015/10/02/arts/music/jazz-listings-for-oct-2-8.html', 'document_type': 'article', 'pub_date': '2015-10-02T00:00:00Z', 'type_of_material': 'Schedule', 'section_name': 'Music', 'snippet': 'A selected guide to jazz performances in New York City.', 'blog': {}, 'score': 1.3322561e-28, 'byline': {'original': None}, 'print_page': '19', 'multimedia': [{'width': 190, 'rank': 0, 'height': 126, 'subtype': 'wide', 'url': 'images/2015/10/02/arts/02LISTINGSJAZZ/02LISTINGSJAZZ-thumbWide.jpg', 'legacy': {'wideheight': '126', 'wide': 'images/2015/10/02/arts/02LISTINGSJAZZ/02LISTINGSJAZZ-thumbWide.jpg', 'widewidth': '190'}, 'type': 'image'}, {'width': 600, 'rank': 0, 'height': 400, 'subtype': 'xlarge', 'url': 'images/2015/10/02/arts/02LISTINGSJAZZ/02LISTINGSJAZZ-articleLarge.jpg', 'legacy': {'xlargewidth': '600', 'xlargeheight': '400', 'xlarge': 'images/2015/10/02/arts/02LISTINGSJAZZ/02LISTINGSJAZZ-articleLarge.jpg'}, 'type': 'image'}, {'width': 75, 'rank': 0, 'height': 75, 'subtype': 'thumbnail', 'url': 'images/2015/10/02/arts/02LISTINGSJAZZ/02LISTINGSJAZZ-thumbStandard.jpg', 'legacy': {'thumbnailwidth': '75', 'thumbnail': 'images/2015/10/02/arts/02LISTINGSJAZZ/02LISTINGSJAZZ-thumbStandard.jpg', 'thumbnailheight': '75'}, 'type': 'image'}]}, {'keywords': [{'name': 'subject', 'value': 'Music', 'isMajor': None, 'rank': 1}, {'name': 'subject', 'value': 'Jazz', 'isMajor': None, 'rank': 2}, {'name': 'organizations', 'value': 'Metropolitan Room', 'isMajor': None, 'rank': 3}, {'name': 'persons', 'value': 'Harms, Nancy (Singer)', 'isMajor': None, 'rank': 4}], 'new_desk': 'Culture', 'abstract': 'Stephen Holden reviews performance by jazz singer Nancy Harms at Metropolitan Room.', 'word_count': 326, 'document_type': 'article', 'source': 'The New York Times', '_id': '55ef4b7638f0d867b4c8968b', 'web_url': 'https://www.nytimes.com/2015/09/09/arts/music/nancy-harms-celebrates-duke-ellington.html', 'headline': {'print_headline': 'Filtering the Ellington Canon Through a Moody Nocturnal Lens ', 'main': 'Nancy Harms Celebrates Duke Ellington'}, 'pub_date': '2015-09-09T00:00:00Z', 'type_of_material': 'Review', 'section_name': 'Music', 'snippet': 'Ms. Harms sang a program of songs associated with Duke Ellington, including &#8220;Mood Indigo,&#8221; at the Metropolitan Room.', 'blog': {}, 'score': 6.058644e-29, 'byline': {'original': 'By STEPHEN HOLDEN'}, 'print_page': '2', 'multimedia': []}, {'keywords': [{'name': 'subject', 'value': 'Deaths (Obituaries)', 'isMajor': None, 'rank': 1}, {'name': 'subject', 'value': 'Documentary Films and Programs', 'isMajor': None, 'rank': 2}, {'name': 'persons', 'value': 'Ellington, Duke', 'isMajor': None, 'rank': 3}, {'name': 'subject', 'value': 'Jazz', 'isMajor': None, 'rank': 4}, {'name': 'persons', 'value': 'Keys, Gary (1934-2015)', 'isMajor': None, 'rank': 5}], 'new_desk': 'Culture', 'abstract': 'Gary Keys, a documentary filmmaker who captured some of the most important figures in jazz from the 1960s through the 1980s, most notably Duke Ellington, dies at age 81.  ', 'word_count': 523, 'document_type': 'article', 'source': 'The New York Times', '_id': '55e39f4738f0d84c14715dc4', 'web_url': 'https://www.nytimes.com/2015/08/31/movies/gary-keys-filmmaker-who-documented-duke-ellington-dies-at-81.html', 'headline': {'print_headline': 'Gary Keys, 81, Ellington Documentarian', 'main': 'Gary Keys, Filmmaker Who Documented Duke Ellington, Dies at 81'}, 'pub_date': '2015-08-31T00:00:00Z', 'type_of_material': 'Obituary', 'snippet': 'Mr. Keys produced concerts at Carnegie Hall and Lincoln Center by Stan Getz, Dionne Warwick, the Supremes, Simon and Garfunkel, Judy Garland and Stevie Wonder.', 'blog': {}, 'score': 1.620911e-29, 'byline': {'original': 'By WILLIAM GRIMES'}, 'print_page': '7', 'multimedia': [{'width': 190, 'rank': 0, 'height': 126, 'subtype': 'wide', 'url': 'images/2015/08/31/arts/31KEYS-obit/31KEYS-obit-thumbWide-v2.jpg', 'legacy': {'wideheight': '126', 'wide': 'images/2015/08/31/arts/31KEYS-obit/31KEYS-obit-thumbWide-v2.jpg', 'widewidth': '190'}, 'type': 'image'}, {'width': 600, 'rank': 0, 'height': 415, 'subtype': 'xlarge', 'url': 'images/2015/08/31/arts/31KEYS-obit/31KEYS-obit-articleLarge-v2.jpg', 'legacy': {'xlargewidth': '600', 'xlargeheight': '415', 'xlarge': 'images/2015/08/31/arts/31KEYS-obit/31KEYS-obit-articleLarge-v2.jpg'}, 'type': 'image'}, {'width': 75, 'rank': 0, 'height': 75, 'subtype': 'thumbnail', 'url': 'images/2015/08/31/arts/31KEYS-obit/31KEYS-obit-thumbStandard.jpg', 'legacy': {'thumbnailwidth': '75', 'thumbnail': 'images/2015/08/31/arts/31KEYS-obit/31KEYS-obit-thumbStandard.jpg', 'thumbnailheight': '75'}, 'type': 'image'}]}, {'keywords': [{'name': 'subject', 'value': 'Books and Literature', 'isMajor': None, 'rank': 1}, {'name': 'persons', 'value': 'Jefferson, Margo', 'isMajor': None, 'rank': 2}, {'name': 'subject', 'value': 'Blacks', 'isMajor': None, 'rank': 3}, {'name': 'creative_works', 'value': 'Negroland: A Memoir (Book)', 'isMajor': None, 'rank': 4}], 'new_desk': 'Weekend', 'abstract': 'Dwight Garner reviews book Negroland: A Memoir by Margo Jefferson. ', 'word_count': 1122, 'document_type': 'article', 'source': '', '_id': '55f1fcd138f0d824d9bc6c83', 'web_url': 'https://www.nytimes.com/2015/09/11/books/review-negroland-by-margo-jefferson-on-growing-up-black-and-privileged.html', 'headline': {'print_headline': '&#8216;Good Negro Girl&#8217; Has Her Say ', 'main': 'Review: &#8216;Negroland,&#8217; by Margo Jefferson, on Growing Up Black and Privileged', 'kicker': 'Books of The Times'}, 'pub_date': '2015-09-11T00:00:00Z', 'type_of_material': 'Review', 'snippet': 'Ms. Jefferson, a former critic for The New York Times, writes about growing up in a privileged family in Chicago yet persistently feeling the effects of racism.', 'blog': {}, 'score': 4.468753e-30, 'byline': {'original': 'By DWIGHT GARNER'}, 'print_page': '21', 'multimedia': [{'width': 190, 'rank': 0, 'height': 126, 'subtype': 'wide', 'url': 'images/2015/09/11/arts/11BOOK/11BOOK-thumbWide.jpg', 'legacy': {'wideheight': '126', 'wide': 'images/2015/09/11/arts/11BOOK/11BOOK-thumbWide.jpg', 'widewidth': '190'}, 'type': 'image'}, {'width': 600, 'rank': 0, 'height': 780, 'subtype': 'xlarge', 'url': 'images/2015/09/11/arts/0911BOOKJEFFERSONJP1/0911BOOKJEFFERSONJP1-articleLarge-v2.jpg', 'legacy': {'xlargewidth': '600', 'xlargeheight': '780', 'xlarge': 'images/2015/09/11/arts/0911BOOKJEFFERSONJP1/0911BOOKJEFFERSONJP1-articleLarge-v2.jpg'}, 'type': 'image'}, {'width': 75, 'rank': 0, 'height': 75, 'subtype': 'thumbnail', 'url': 'images/2015/09/11/arts/11BOOK/11BOOK-thumbStandard.jpg', 'legacy': {'thumbnailwidth': '75', 'thumbnail': 'images/2015/09/11/arts/11BOOK/11BOOK-thumbStandard.jpg', 'thumbnailheight': '75'}, 'type': 'image'}]}, {'keywords': [], 'new_desk': 'Summary', 'word_count': 594, 'headline': {'print_headline': 'Corrections', 'main': 'Corrections: September 3, 2015'}, 'source': 'The New York Times', '_id': '55e7e91638f0d80b7eeea706', 'web_url': 'https://www.nytimes.com/2015/09/03/pageoneplus/corrections-september-3-2015.html', 'document_type': 'article', 'pub_date': '2015-09-03T00:00:00Z', 'type_of_material': 'News', 'snippet': 'Corrections appearing in print on Thursday, September 3, 2015.', 'blog': {}, 'score': 2.7708687e-30, 'byline': {'original': None}, 'print_page': '2', 'multimedia': []}, {'keywords': [{'name': 'persons', 'value': 'KEYS, GARY', 'isMajor': None, 'rank': 0}], 'new_desk': 'Classified', 'word_count': 195, 'headline': {'main': 'Paid Notice: Deaths  KEYS, GARY'}, 'source': 'The New York Times', '_id': '55dd2c6838f0d8657895ea0f', 'web_url': 'https://query.nytimes.com/gst/fullpage.html?res=9901E4DD143AF93BA2575BC0A9639D8B63', 'document_type': 'article', 'pub_date': '2015-08-18T00:00:00Z', 'type_of_material': 'Paid Death Notice', 'snippet': 'KEYS--Gary. 81, of New York City and Negro Harbour, Nova Scotia passed away on Sunday, August 9. In the sixties he distinguished himself in the jazz world by producing the first jazz and pop concerts at Lincoln Center and Carnegie Hall featuring T...', 'blog': {}, 'score': 1.8786799e-31, 'print_page': '14', 'multimedia': []}], 'meta': {'offset': 10, 'hits': 65, 'time': 12}}, 'status': 'OK'}\n"
     ]
    }
   ],
   "source": [
    "# Convert JSON response to a dictionary\n",
    "data = json.loads(response_text)\n",
    "print(data)"
   ]
  },
  {
   "cell_type": "markdown",
   "metadata": {},
   "source": [
    "That looks intimidating! But it's really just a big dictionary. Let's see what keys we got in there."
   ]
  },
  {
   "cell_type": "code",
   "execution_count": 16,
   "metadata": {
    "collapsed": false
   },
   "outputs": [
    {
     "name": "stdout",
     "output_type": "stream",
     "text": [
      "dict_keys(['copyright', 'response', 'status'])\n"
     ]
    }
   ],
   "source": [
    "print(data.keys())"
   ]
  },
  {
   "cell_type": "code",
   "execution_count": 17,
   "metadata": {
    "collapsed": false
   },
   "outputs": [
    {
     "data": {
      "text/plain": [
       "'OK'"
      ]
     },
     "execution_count": 17,
     "metadata": {},
     "output_type": "execute_result"
    }
   ],
   "source": [
    "# this is boring\n",
    "data['status']"
   ]
  },
  {
   "cell_type": "code",
   "execution_count": 18,
   "metadata": {
    "collapsed": false
   },
   "outputs": [
    {
     "data": {
      "text/plain": [
       "'Copyright (c) 2017 The New York Times Company. All Rights Reserved.'"
      ]
     },
     "execution_count": 18,
     "metadata": {},
     "output_type": "execute_result"
    }
   ],
   "source": [
    "# so is this\n",
    "data['copyright']"
   ]
  },
  {
   "cell_type": "code",
   "execution_count": 32,
   "metadata": {
    "collapsed": false
   },
   "outputs": [
    {
     "data": {
      "text/plain": [
       "{'docs': [{'_id': '561c30a038f0d84d2f3b8a88',\n",
       "   'abstract': \"Brian Seibert reviews New York premiere of John Heginbotham dance piece Easy Win, and company debut of Angels' Share, performed by Dance Heginbotham troupe at Joyce Theater. \",\n",
       "   'blog': {},\n",
       "   'byline': {'original': 'By BRIAN SEIBERT'},\n",
       "   'document_type': 'article',\n",
       "   'headline': {'main': 'Review: Dance Heginbotham Shows Off Its Eccentric Style at the Joyce',\n",
       "    'print_headline': 'Mixing Whimsy and Sadness'},\n",
       "   'keywords': [{'isMajor': None,\n",
       "     'name': 'subject',\n",
       "     'rank': 1,\n",
       "     'value': 'Dancing'},\n",
       "    {'isMajor': None,\n",
       "     'name': 'persons',\n",
       "     'rank': 2,\n",
       "     'value': 'Heginbotham, John'},\n",
       "    {'isMajor': None,\n",
       "     'name': 'organizations',\n",
       "     'rank': 3,\n",
       "     'value': 'Joyce Theater'},\n",
       "    {'isMajor': None,\n",
       "     'name': 'organizations',\n",
       "     'rank': 4,\n",
       "     'value': 'Dance Heginbotham'}],\n",
       "   'multimedia': [{'height': 126,\n",
       "     'legacy': {'wide': 'images/2015/10/13/arts/13HIGGENBOTTOM/13HIGGENBOTTOM-thumbWide-v2.jpg',\n",
       "      'wideheight': '126',\n",
       "      'widewidth': '190'},\n",
       "     'rank': 0,\n",
       "     'subtype': 'wide',\n",
       "     'type': 'image',\n",
       "     'url': 'images/2015/10/13/arts/13HIGGENBOTTOM/13HIGGENBOTTOM-thumbWide-v2.jpg',\n",
       "     'width': 190},\n",
       "    {'height': 401,\n",
       "     'legacy': {'xlarge': 'images/2015/10/13/arts/13HIGGENBOTTOM/13HIGGENBOTTOM-articleLarge-v2.jpg',\n",
       "      'xlargeheight': '401',\n",
       "      'xlargewidth': '600'},\n",
       "     'rank': 0,\n",
       "     'subtype': 'xlarge',\n",
       "     'type': 'image',\n",
       "     'url': 'images/2015/10/13/arts/13HIGGENBOTTOM/13HIGGENBOTTOM-articleLarge-v2.jpg',\n",
       "     'width': 600},\n",
       "    {'height': 75,\n",
       "     'legacy': {'thumbnail': 'images/2015/10/13/arts/13HIGGENBOTTOM/13HIGGENBOTTOM-thumbStandard-v2.jpg',\n",
       "      'thumbnailheight': '75',\n",
       "      'thumbnailwidth': '75'},\n",
       "     'rank': 0,\n",
       "     'subtype': 'thumbnail',\n",
       "     'type': 'image',\n",
       "     'url': 'images/2015/10/13/arts/13HIGGENBOTTOM/13HIGGENBOTTOM-thumbStandard-v2.jpg',\n",
       "     'width': 75}],\n",
       "   'new_desk': 'Culture',\n",
       "   'print_page': '5',\n",
       "   'pub_date': '2015-10-13T00:00:00Z',\n",
       "   'score': 2.3436928e-27,\n",
       "   'section_name': 'Dance',\n",
       "   'snippet': 'John Heginbotham, a choreographer who used to perform with the Mark Morris Dance Group, drew on those years for his latest program.',\n",
       "   'source': 'The New York Times',\n",
       "   'type_of_material': 'Review',\n",
       "   'web_url': 'https://www.nytimes.com/2015/10/13/arts/dance/review-dance-heginbotham-shows-off-its-eccentric-style-at-the-joyce.html',\n",
       "   'word_count': 371},\n",
       "  {'_id': '5620f27f38f0d84dbbafe2d5',\n",
       "   'blog': {},\n",
       "   'byline': {'original': 'By JASON SABLICH and JUSTIN SABLICH'},\n",
       "   'document_type': 'article',\n",
       "   'headline': {'main': 'Fantasy Football Week 6: Rankings and Matchup Analysis'},\n",
       "   'keywords': [{'isMajor': None,\n",
       "     'name': 'subject',\n",
       "     'rank': 1,\n",
       "     'value': 'Football'},\n",
       "    {'isMajor': None,\n",
       "     'name': 'subject',\n",
       "     'rank': 2,\n",
       "     'value': 'Fantasy Sports'}],\n",
       "   'multimedia': [{'height': 126,\n",
       "     'legacy': {'wide': 'images/2015/10/17/sports/17fantasy1/17fantasy1-thumbWide.jpg',\n",
       "      'wideheight': '126',\n",
       "      'widewidth': '190'},\n",
       "     'rank': 0,\n",
       "     'subtype': 'wide',\n",
       "     'type': 'image',\n",
       "     'url': 'images/2015/10/17/sports/17fantasy1/17fantasy1-thumbWide.jpg',\n",
       "     'width': 190},\n",
       "    {'height': 399,\n",
       "     'legacy': {'xlarge': 'images/2015/10/17/sports/17fantasy1/17fantasy1-articleLarge.jpg',\n",
       "      'xlargeheight': '399',\n",
       "      'xlargewidth': '600'},\n",
       "     'rank': 0,\n",
       "     'subtype': 'xlarge',\n",
       "     'type': 'image',\n",
       "     'url': 'images/2015/10/17/sports/17fantasy1/17fantasy1-articleLarge.jpg',\n",
       "     'width': 600},\n",
       "    {'height': 75,\n",
       "     'legacy': {'thumbnail': 'images/2015/10/17/sports/17fantasy1/17fantasy1-thumbStandard.jpg',\n",
       "      'thumbnailheight': '75',\n",
       "      'thumbnailwidth': '75'},\n",
       "     'rank': 0,\n",
       "     'subtype': 'thumbnail',\n",
       "     'type': 'image',\n",
       "     'url': 'images/2015/10/17/sports/17fantasy1/17fantasy1-thumbStandard.jpg',\n",
       "     'width': 75}],\n",
       "   'new_desk': 'Sports',\n",
       "   'pub_date': '2015-10-17T00:00:00Z',\n",
       "   'score': 1.4491984e-27,\n",
       "   'section_name': 'Pro Football',\n",
       "   'snippet': 'Le’Veon Bell may have proven to be the best fantasy pick of the first round. More on this, and fantasy football notes for every remaining Week 6 game.',\n",
       "   'source': 'The New York Times',\n",
       "   'type_of_material': 'News',\n",
       "   'web_url': 'https://www.nytimes.com/2015/10/17/sports/fantasy-football-week-6-rankings-and-matchup-analysis.html',\n",
       "   'word_count': 3078},\n",
       "  {'_id': '5618111e38f0d814e13702e1',\n",
       "   'blog': {},\n",
       "   'byline': {'original': 'By JASON SABLICH and JUSTIN SABLICH'},\n",
       "   'document_type': 'article',\n",
       "   'headline': {'main': 'Fantasy Football Week 5: Rankings and Matchup Analysis'},\n",
       "   'keywords': [{'isMajor': None,\n",
       "     'name': 'subject',\n",
       "     'rank': 1,\n",
       "     'value': 'Football'},\n",
       "    {'isMajor': None, 'name': 'subject', 'rank': 2, 'value': 'Fantasy Sports'},\n",
       "    {'isMajor': None,\n",
       "     'name': 'persons',\n",
       "     'rank': 3,\n",
       "     'value': 'Freeman, Devonta (1992- )'}],\n",
       "   'multimedia': [{'height': 126,\n",
       "     'legacy': {'wide': 'images/2015/10/10/sports/10fantasy1/10fantasy1-thumbWide.jpg',\n",
       "      'wideheight': '126',\n",
       "      'widewidth': '190'},\n",
       "     'rank': 0,\n",
       "     'subtype': 'wide',\n",
       "     'type': 'image',\n",
       "     'url': 'images/2015/10/10/sports/10fantasy1/10fantasy1-thumbWide.jpg',\n",
       "     'width': 190},\n",
       "    {'height': 400,\n",
       "     'legacy': {'xlarge': 'images/2015/10/10/sports/10fantasy1/10fantasy1-articleLarge.jpg',\n",
       "      'xlargeheight': '400',\n",
       "      'xlargewidth': '600'},\n",
       "     'rank': 0,\n",
       "     'subtype': 'xlarge',\n",
       "     'type': 'image',\n",
       "     'url': 'images/2015/10/10/sports/10fantasy1/10fantasy1-articleLarge.jpg',\n",
       "     'width': 600},\n",
       "    {'height': 75,\n",
       "     'legacy': {'thumbnail': 'images/2015/10/10/sports/10fantasy1/10fantasy1-thumbStandard.jpg',\n",
       "      'thumbnailheight': '75',\n",
       "      'thumbnailwidth': '75'},\n",
       "     'rank': 0,\n",
       "     'subtype': 'thumbnail',\n",
       "     'type': 'image',\n",
       "     'url': 'images/2015/10/10/sports/10fantasy1/10fantasy1-thumbStandard.jpg',\n",
       "     'width': 75}],\n",
       "   'new_desk': 'Sports',\n",
       "   'pub_date': '2015-10-10T00:00:00Z',\n",
       "   'score': 5.6799815e-28,\n",
       "   'section_name': 'Pro Football',\n",
       "   'snippet': 'Is Devonta Freeman for real? More on this, and fantasy football notes for every remaining Week 5 game.',\n",
       "   'source': 'The New York Times',\n",
       "   'type_of_material': 'News',\n",
       "   'web_url': 'https://www.nytimes.com/2015/10/10/sports/football/fantasy-football-week-5-rankings-and-matchup-analysis.html',\n",
       "   'word_count': 2909},\n",
       "  {'_id': '560b30a238f0d84e27991244',\n",
       "   'abstract': 'Phil Woods, a leading alto saxophonist in the generation that followed Charlie Parker, and who became a protegee of the bebop pioneer Dizzy Gillespie in the 1950s, ultimately winning four Grammy Awards and a Living Jazz Legend Award from the Kennedy Center, dies at age 83. ',\n",
       "   'blog': {},\n",
       "   'byline': {'original': 'By NATE CHINEN'},\n",
       "   'document_type': 'article',\n",
       "   'headline': {'main': 'Phil Woods, Saxophonist Revered in Jazz and Heard on Hits, Dies at 83',\n",
       "    'print_headline': 'Phil Woods, Saxophonist Revered in Jazz, Dies at 83'},\n",
       "   'keywords': [{'isMajor': None,\n",
       "     'name': 'subject',\n",
       "     'rank': 1,\n",
       "     'value': 'Deaths (Obituaries)'},\n",
       "    {'isMajor': None, 'name': 'subject', 'rank': 2, 'value': 'Jazz'},\n",
       "    {'isMajor': None, 'name': 'subject', 'rank': 3, 'value': 'Saxophones'},\n",
       "    {'isMajor': None,\n",
       "     'name': 'persons',\n",
       "     'rank': 4,\n",
       "     'value': 'Woods, Phil (1931-2015)'}],\n",
       "   'multimedia': [{'height': 126,\n",
       "     'legacy': {'wide': 'images/2015/09/30/arts/30woods-obit/30woods-obit-thumbWide.jpg',\n",
       "      'wideheight': '126',\n",
       "      'widewidth': '190'},\n",
       "     'rank': 0,\n",
       "     'subtype': 'wide',\n",
       "     'type': 'image',\n",
       "     'url': 'images/2015/09/30/arts/30woods-obit/30woods-obit-thumbWide.jpg',\n",
       "     'width': 190},\n",
       "    {'height': 900,\n",
       "     'legacy': {'xlarge': 'images/2015/09/30/arts/30woods-obit/30woods-obit-articleLarge.jpg',\n",
       "      'xlargeheight': '900',\n",
       "      'xlargewidth': '600'},\n",
       "     'rank': 0,\n",
       "     'subtype': 'xlarge',\n",
       "     'type': 'image',\n",
       "     'url': 'images/2015/09/30/arts/30woods-obit/30woods-obit-articleLarge.jpg',\n",
       "     'width': 600},\n",
       "    {'height': 75,\n",
       "     'legacy': {'thumbnail': 'images/2015/09/30/arts/30woods-obit/30woods-obit-thumbStandard.jpg',\n",
       "      'thumbnailheight': '75',\n",
       "      'thumbnailwidth': '75'},\n",
       "     'rank': 0,\n",
       "     'subtype': 'thumbnail',\n",
       "     'type': 'image',\n",
       "     'url': 'images/2015/09/30/arts/30woods-obit/30woods-obit-thumbStandard.jpg',\n",
       "     'width': 75}],\n",
       "   'new_desk': 'Culture',\n",
       "   'print_page': '18',\n",
       "   'pub_date': '2015-09-30T00:00:00Z',\n",
       "   'score': 1.594453e-28,\n",
       "   'section_name': 'Music',\n",
       "   'snippet': 'Mr. Woods was a disciple of Charlie Parker and was widely heard on songs by Billy Joel, Paul Simon and others.',\n",
       "   'source': 'The New York Times',\n",
       "   'type_of_material': 'Obituary',\n",
       "   'web_url': 'https://www.nytimes.com/2015/09/30/arts/music/phil-woods-saxophonist-revered-in-jazz-dies-at-83.html',\n",
       "   'word_count': 724},\n",
       "  {'_id': '560db8bb38f0d81aa77a51d2',\n",
       "   'blog': {},\n",
       "   'byline': {'original': None},\n",
       "   'document_type': 'article',\n",
       "   'headline': {'main': 'Jazz Listings for Oct. 2-8',\n",
       "    'print_headline': 'The Listings: Jazz'},\n",
       "   'keywords': [{'isMajor': None,\n",
       "     'name': 'subject',\n",
       "     'rank': 1,\n",
       "     'value': 'Music'},\n",
       "    {'isMajor': None, 'name': 'subject', 'rank': 2, 'value': 'Jazz'}],\n",
       "   'multimedia': [{'height': 126,\n",
       "     'legacy': {'wide': 'images/2015/10/02/arts/02LISTINGSJAZZ/02LISTINGSJAZZ-thumbWide.jpg',\n",
       "      'wideheight': '126',\n",
       "      'widewidth': '190'},\n",
       "     'rank': 0,\n",
       "     'subtype': 'wide',\n",
       "     'type': 'image',\n",
       "     'url': 'images/2015/10/02/arts/02LISTINGSJAZZ/02LISTINGSJAZZ-thumbWide.jpg',\n",
       "     'width': 190},\n",
       "    {'height': 400,\n",
       "     'legacy': {'xlarge': 'images/2015/10/02/arts/02LISTINGSJAZZ/02LISTINGSJAZZ-articleLarge.jpg',\n",
       "      'xlargeheight': '400',\n",
       "      'xlargewidth': '600'},\n",
       "     'rank': 0,\n",
       "     'subtype': 'xlarge',\n",
       "     'type': 'image',\n",
       "     'url': 'images/2015/10/02/arts/02LISTINGSJAZZ/02LISTINGSJAZZ-articleLarge.jpg',\n",
       "     'width': 600},\n",
       "    {'height': 75,\n",
       "     'legacy': {'thumbnail': 'images/2015/10/02/arts/02LISTINGSJAZZ/02LISTINGSJAZZ-thumbStandard.jpg',\n",
       "      'thumbnailheight': '75',\n",
       "      'thumbnailwidth': '75'},\n",
       "     'rank': 0,\n",
       "     'subtype': 'thumbnail',\n",
       "     'type': 'image',\n",
       "     'url': 'images/2015/10/02/arts/02LISTINGSJAZZ/02LISTINGSJAZZ-thumbStandard.jpg',\n",
       "     'width': 75}],\n",
       "   'new_desk': 'Weekend',\n",
       "   'print_page': '19',\n",
       "   'pub_date': '2015-10-02T00:00:00Z',\n",
       "   'score': 1.3322561e-28,\n",
       "   'section_name': 'Music',\n",
       "   'snippet': 'A selected guide to jazz performances in New York City.',\n",
       "   'source': 'The New York Times',\n",
       "   'type_of_material': 'Schedule',\n",
       "   'web_url': 'https://www.nytimes.com/2015/10/02/arts/music/jazz-listings-for-oct-2-8.html',\n",
       "   'word_count': 1769},\n",
       "  {'_id': '55ef4b7638f0d867b4c8968b',\n",
       "   'abstract': 'Stephen Holden reviews performance by jazz singer Nancy Harms at Metropolitan Room.',\n",
       "   'blog': {},\n",
       "   'byline': {'original': 'By STEPHEN HOLDEN'},\n",
       "   'document_type': 'article',\n",
       "   'headline': {'main': 'Nancy Harms Celebrates Duke Ellington',\n",
       "    'print_headline': 'Filtering the Ellington Canon Through a Moody Nocturnal Lens '},\n",
       "   'keywords': [{'isMajor': None,\n",
       "     'name': 'subject',\n",
       "     'rank': 1,\n",
       "     'value': 'Music'},\n",
       "    {'isMajor': None, 'name': 'subject', 'rank': 2, 'value': 'Jazz'},\n",
       "    {'isMajor': None,\n",
       "     'name': 'organizations',\n",
       "     'rank': 3,\n",
       "     'value': 'Metropolitan Room'},\n",
       "    {'isMajor': None,\n",
       "     'name': 'persons',\n",
       "     'rank': 4,\n",
       "     'value': 'Harms, Nancy (Singer)'}],\n",
       "   'multimedia': [],\n",
       "   'new_desk': 'Culture',\n",
       "   'print_page': '2',\n",
       "   'pub_date': '2015-09-09T00:00:00Z',\n",
       "   'score': 6.058644e-29,\n",
       "   'section_name': 'Music',\n",
       "   'snippet': 'Ms. Harms sang a program of songs associated with Duke Ellington, including &#8220;Mood Indigo,&#8221; at the Metropolitan Room.',\n",
       "   'source': 'The New York Times',\n",
       "   'type_of_material': 'Review',\n",
       "   'web_url': 'https://www.nytimes.com/2015/09/09/arts/music/nancy-harms-celebrates-duke-ellington.html',\n",
       "   'word_count': 326},\n",
       "  {'_id': '55e39f4738f0d84c14715dc4',\n",
       "   'abstract': 'Gary Keys, a documentary filmmaker who captured some of the most important figures in jazz from the 1960s through the 1980s, most notably Duke Ellington, dies at age 81.  ',\n",
       "   'blog': {},\n",
       "   'byline': {'original': 'By WILLIAM GRIMES'},\n",
       "   'document_type': 'article',\n",
       "   'headline': {'main': 'Gary Keys, Filmmaker Who Documented Duke Ellington, Dies at 81',\n",
       "    'print_headline': 'Gary Keys, 81, Ellington Documentarian'},\n",
       "   'keywords': [{'isMajor': None,\n",
       "     'name': 'subject',\n",
       "     'rank': 1,\n",
       "     'value': 'Deaths (Obituaries)'},\n",
       "    {'isMajor': None,\n",
       "     'name': 'subject',\n",
       "     'rank': 2,\n",
       "     'value': 'Documentary Films and Programs'},\n",
       "    {'isMajor': None,\n",
       "     'name': 'persons',\n",
       "     'rank': 3,\n",
       "     'value': 'Ellington, Duke'},\n",
       "    {'isMajor': None, 'name': 'subject', 'rank': 4, 'value': 'Jazz'},\n",
       "    {'isMajor': None,\n",
       "     'name': 'persons',\n",
       "     'rank': 5,\n",
       "     'value': 'Keys, Gary (1934-2015)'}],\n",
       "   'multimedia': [{'height': 126,\n",
       "     'legacy': {'wide': 'images/2015/08/31/arts/31KEYS-obit/31KEYS-obit-thumbWide-v2.jpg',\n",
       "      'wideheight': '126',\n",
       "      'widewidth': '190'},\n",
       "     'rank': 0,\n",
       "     'subtype': 'wide',\n",
       "     'type': 'image',\n",
       "     'url': 'images/2015/08/31/arts/31KEYS-obit/31KEYS-obit-thumbWide-v2.jpg',\n",
       "     'width': 190},\n",
       "    {'height': 415,\n",
       "     'legacy': {'xlarge': 'images/2015/08/31/arts/31KEYS-obit/31KEYS-obit-articleLarge-v2.jpg',\n",
       "      'xlargeheight': '415',\n",
       "      'xlargewidth': '600'},\n",
       "     'rank': 0,\n",
       "     'subtype': 'xlarge',\n",
       "     'type': 'image',\n",
       "     'url': 'images/2015/08/31/arts/31KEYS-obit/31KEYS-obit-articleLarge-v2.jpg',\n",
       "     'width': 600},\n",
       "    {'height': 75,\n",
       "     'legacy': {'thumbnail': 'images/2015/08/31/arts/31KEYS-obit/31KEYS-obit-thumbStandard.jpg',\n",
       "      'thumbnailheight': '75',\n",
       "      'thumbnailwidth': '75'},\n",
       "     'rank': 0,\n",
       "     'subtype': 'thumbnail',\n",
       "     'type': 'image',\n",
       "     'url': 'images/2015/08/31/arts/31KEYS-obit/31KEYS-obit-thumbStandard.jpg',\n",
       "     'width': 75}],\n",
       "   'new_desk': 'Culture',\n",
       "   'print_page': '7',\n",
       "   'pub_date': '2015-08-31T00:00:00Z',\n",
       "   'score': 1.620911e-29,\n",
       "   'snippet': 'Mr. Keys produced concerts at Carnegie Hall and Lincoln Center by Stan Getz, Dionne Warwick, the Supremes, Simon and Garfunkel, Judy Garland and Stevie Wonder.',\n",
       "   'source': 'The New York Times',\n",
       "   'type_of_material': 'Obituary',\n",
       "   'web_url': 'https://www.nytimes.com/2015/08/31/movies/gary-keys-filmmaker-who-documented-duke-ellington-dies-at-81.html',\n",
       "   'word_count': 523},\n",
       "  {'_id': '55f1fcd138f0d824d9bc6c83',\n",
       "   'abstract': 'Dwight Garner reviews book Negroland: A Memoir by Margo Jefferson. ',\n",
       "   'blog': {},\n",
       "   'byline': {'original': 'By DWIGHT GARNER'},\n",
       "   'document_type': 'article',\n",
       "   'headline': {'kicker': 'Books of The Times',\n",
       "    'main': 'Review: &#8216;Negroland,&#8217; by Margo Jefferson, on Growing Up Black and Privileged',\n",
       "    'print_headline': '&#8216;Good Negro Girl&#8217; Has Her Say '},\n",
       "   'keywords': [{'isMajor': None,\n",
       "     'name': 'subject',\n",
       "     'rank': 1,\n",
       "     'value': 'Books and Literature'},\n",
       "    {'isMajor': None,\n",
       "     'name': 'persons',\n",
       "     'rank': 2,\n",
       "     'value': 'Jefferson, Margo'},\n",
       "    {'isMajor': None, 'name': 'subject', 'rank': 3, 'value': 'Blacks'},\n",
       "    {'isMajor': None,\n",
       "     'name': 'creative_works',\n",
       "     'rank': 4,\n",
       "     'value': 'Negroland: A Memoir (Book)'}],\n",
       "   'multimedia': [{'height': 126,\n",
       "     'legacy': {'wide': 'images/2015/09/11/arts/11BOOK/11BOOK-thumbWide.jpg',\n",
       "      'wideheight': '126',\n",
       "      'widewidth': '190'},\n",
       "     'rank': 0,\n",
       "     'subtype': 'wide',\n",
       "     'type': 'image',\n",
       "     'url': 'images/2015/09/11/arts/11BOOK/11BOOK-thumbWide.jpg',\n",
       "     'width': 190},\n",
       "    {'height': 780,\n",
       "     'legacy': {'xlarge': 'images/2015/09/11/arts/0911BOOKJEFFERSONJP1/0911BOOKJEFFERSONJP1-articleLarge-v2.jpg',\n",
       "      'xlargeheight': '780',\n",
       "      'xlargewidth': '600'},\n",
       "     'rank': 0,\n",
       "     'subtype': 'xlarge',\n",
       "     'type': 'image',\n",
       "     'url': 'images/2015/09/11/arts/0911BOOKJEFFERSONJP1/0911BOOKJEFFERSONJP1-articleLarge-v2.jpg',\n",
       "     'width': 600},\n",
       "    {'height': 75,\n",
       "     'legacy': {'thumbnail': 'images/2015/09/11/arts/11BOOK/11BOOK-thumbStandard.jpg',\n",
       "      'thumbnailheight': '75',\n",
       "      'thumbnailwidth': '75'},\n",
       "     'rank': 0,\n",
       "     'subtype': 'thumbnail',\n",
       "     'type': 'image',\n",
       "     'url': 'images/2015/09/11/arts/11BOOK/11BOOK-thumbStandard.jpg',\n",
       "     'width': 75}],\n",
       "   'new_desk': 'Weekend',\n",
       "   'print_page': '21',\n",
       "   'pub_date': '2015-09-11T00:00:00Z',\n",
       "   'score': 4.468753e-30,\n",
       "   'snippet': 'Ms. Jefferson, a former critic for The New York Times, writes about growing up in a privileged family in Chicago yet persistently feeling the effects of racism.',\n",
       "   'source': '',\n",
       "   'type_of_material': 'Review',\n",
       "   'web_url': 'https://www.nytimes.com/2015/09/11/books/review-negroland-by-margo-jefferson-on-growing-up-black-and-privileged.html',\n",
       "   'word_count': 1122},\n",
       "  {'_id': '55e7e91638f0d80b7eeea706',\n",
       "   'blog': {},\n",
       "   'byline': {'original': None},\n",
       "   'document_type': 'article',\n",
       "   'headline': {'main': 'Corrections: September 3, 2015',\n",
       "    'print_headline': 'Corrections'},\n",
       "   'keywords': [],\n",
       "   'multimedia': [],\n",
       "   'new_desk': 'Summary',\n",
       "   'print_page': '2',\n",
       "   'pub_date': '2015-09-03T00:00:00Z',\n",
       "   'score': 2.7708687e-30,\n",
       "   'snippet': 'Corrections appearing in print on Thursday, September 3, 2015.',\n",
       "   'source': 'The New York Times',\n",
       "   'type_of_material': 'News',\n",
       "   'web_url': 'https://www.nytimes.com/2015/09/03/pageoneplus/corrections-september-3-2015.html',\n",
       "   'word_count': 594},\n",
       "  {'_id': '55dd2c6838f0d8657895ea0f',\n",
       "   'blog': {},\n",
       "   'document_type': 'article',\n",
       "   'headline': {'main': 'Paid Notice: Deaths  KEYS, GARY'},\n",
       "   'keywords': [{'isMajor': None,\n",
       "     'name': 'persons',\n",
       "     'rank': 0,\n",
       "     'value': 'KEYS, GARY'}],\n",
       "   'multimedia': [],\n",
       "   'new_desk': 'Classified',\n",
       "   'print_page': '14',\n",
       "   'pub_date': '2015-08-18T00:00:00Z',\n",
       "   'score': 1.8786799e-31,\n",
       "   'snippet': 'KEYS--Gary. 81, of New York City and Negro Harbour, Nova Scotia passed away on Sunday, August 9. In the sixties he distinguished himself in the jazz world by producing the first jazz and pop concerts at Lincoln Center and Carnegie Hall featuring T...',\n",
       "   'source': 'The New York Times',\n",
       "   'type_of_material': 'Paid Death Notice',\n",
       "   'web_url': 'https://query.nytimes.com/gst/fullpage.html?res=9901E4DD143AF93BA2575BC0A9639D8B63',\n",
       "   'word_count': 195}],\n",
       " 'meta': {'hits': 65, 'offset': 10, 'time': 12}}"
      ]
     },
     "execution_count": 32,
     "metadata": {},
     "output_type": "execute_result"
    }
   ],
   "source": [
    "# this looks more promising\n",
    "data['response']"
   ]
  },
  {
   "cell_type": "markdown",
   "metadata": {},
   "source": [
    "We'll need to parse this dictionary even further."
   ]
  },
  {
   "cell_type": "code",
   "execution_count": 20,
   "metadata": {
    "collapsed": false
   },
   "outputs": [
    {
     "data": {
      "text/plain": [
       "dict_keys(['docs', 'meta'])"
      ]
     },
     "execution_count": 20,
     "metadata": {},
     "output_type": "execute_result"
    }
   ],
   "source": [
    "data['response'].keys()"
   ]
  },
  {
   "cell_type": "code",
   "execution_count": 23,
   "metadata": {
    "collapsed": false
   },
   "outputs": [
    {
     "data": {
      "text/plain": [
       "{'hits': 65, 'offset': 10, 'time': 12}"
      ]
     },
     "execution_count": 23,
     "metadata": {},
     "output_type": "execute_result"
    }
   ],
   "source": [
    "data['response']['meta']"
   ]
  },
  {
   "cell_type": "markdown",
   "metadata": {
    "collapsed": false
   },
   "source": [
    "Looks like we probably want `docs`."
   ]
  },
  {
   "cell_type": "code",
   "execution_count": 31,
   "metadata": {
    "collapsed": false
   },
   "outputs": [
    {
     "name": "stdout",
     "output_type": "stream",
     "text": [
      "[{'keywords': [{'name': 'subject', 'value': 'Dancing', 'isMajor': None, 'rank': 1}, {'name': 'persons', 'value': 'Heginbotham, John', 'isMajor': None, 'rank': 2}, {'name': 'organizations', 'value': 'Joyce Theater', 'isMajor': None, 'rank': 3}, {'name': 'organizations', 'value': 'Dance Heginbotham', 'isMajor': None, 'rank': 4}], 'new_desk': 'Culture', 'abstract': \"Brian Seibert reviews New York premiere of John Heginbotham dance piece Easy Win, and company debut of Angels' Share, performed by Dance Heginbotham troupe at Joyce Theater. \", 'word_count': 371, 'document_type': 'article', 'source': 'The New York Times', '_id': '561c30a038f0d84d2f3b8a88', 'web_url': 'https://www.nytimes.com/2015/10/13/arts/dance/review-dance-heginbotham-shows-off-its-eccentric-style-at-the-joyce.html', 'headline': {'print_headline': 'Mixing Whimsy and Sadness', 'main': 'Review: Dance Heginbotham Shows Off Its Eccentric Style at the Joyce'}, 'pub_date': '2015-10-13T00:00:00Z', 'type_of_material': 'Review', 'section_name': 'Dance', 'snippet': 'John Heginbotham, a choreographer who used to perform with the Mark Morris Dance Group, drew on those years for his latest program.', 'blog': {}, 'score': 2.3436928e-27, 'byline': {'original': 'By BRIAN SEIBERT'}, 'print_page': '5', 'multimedia': [{'width': 190, 'rank': 0, 'height': 126, 'subtype': 'wide', 'url': 'images/2015/10/13/arts/13HIGGENBOTTOM/13HIGGENBOTTOM-thumbWide-v2.jpg', 'legacy': {'wideheight': '126', 'wide': 'images/2015/10/13/arts/13HIGGENBOTTOM/13HIGGENBOTTOM-thumbWide-v2.jpg', 'widewidth': '190'}, 'type': 'image'}, {'width': 600, 'rank': 0, 'height': 401, 'subtype': 'xlarge', 'url': 'images/2015/10/13/arts/13HIGGENBOTTOM/13HIGGENBOTTOM-articleLarge-v2.jpg', 'legacy': {'xlargewidth': '600', 'xlargeheight': '401', 'xlarge': 'images/2015/10/13/arts/13HIGGENBOTTOM/13HIGGENBOTTOM-articleLarge-v2.jpg'}, 'type': 'image'}, {'width': 75, 'rank': 0, 'height': 75, 'subtype': 'thumbnail', 'url': 'images/2015/10/13/arts/13HIGGENBOTTOM/13HIGGENBOTTOM-thumbStandard-v2.jpg', 'legacy': {'thumbnailwidth': '75', 'thumbnail': 'images/2015/10/13/arts/13HIGGENBOTTOM/13HIGGENBOTTOM-thumbStandard-v2.jpg', 'thumbnailheight': '75'}, 'type': 'image'}]}, {'keywords': [{'name': 'subject', 'value': 'Football', 'isMajor': None, 'rank': 1}, {'name': 'subject', 'value': 'Fantasy Sports', 'isMajor': None, 'rank': 2}], 'new_desk': 'Sports', 'word_count': 3078, 'headline': {'main': 'Fantasy Football Week 6: Rankings and Matchup Analysis'}, 'multimedia': [{'width': 190, 'rank': 0, 'height': 126, 'subtype': 'wide', 'url': 'images/2015/10/17/sports/17fantasy1/17fantasy1-thumbWide.jpg', 'legacy': {'wideheight': '126', 'wide': 'images/2015/10/17/sports/17fantasy1/17fantasy1-thumbWide.jpg', 'widewidth': '190'}, 'type': 'image'}, {'width': 600, 'rank': 0, 'height': 399, 'subtype': 'xlarge', 'url': 'images/2015/10/17/sports/17fantasy1/17fantasy1-articleLarge.jpg', 'legacy': {'xlargewidth': '600', 'xlargeheight': '399', 'xlarge': 'images/2015/10/17/sports/17fantasy1/17fantasy1-articleLarge.jpg'}, 'type': 'image'}, {'width': 75, 'rank': 0, 'height': 75, 'subtype': 'thumbnail', 'url': 'images/2015/10/17/sports/17fantasy1/17fantasy1-thumbStandard.jpg', 'legacy': {'thumbnailwidth': '75', 'thumbnail': 'images/2015/10/17/sports/17fantasy1/17fantasy1-thumbStandard.jpg', 'thumbnailheight': '75'}, 'type': 'image'}], '_id': '5620f27f38f0d84dbbafe2d5', 'web_url': 'https://www.nytimes.com/2015/10/17/sports/fantasy-football-week-6-rankings-and-matchup-analysis.html', 'document_type': 'article', 'pub_date': '2015-10-17T00:00:00Z', 'type_of_material': 'News', 'section_name': 'Pro Football', 'snippet': 'Le’Veon Bell may have proven to be the best fantasy pick of the first round. More on this, and fantasy football notes for every remaining Week 6 game.', 'blog': {}, 'score': 1.4491984e-27, 'byline': {'original': 'By JASON SABLICH and JUSTIN SABLICH'}, 'source': 'The New York Times'}, {'keywords': [{'name': 'subject', 'value': 'Football', 'isMajor': None, 'rank': 1}, {'name': 'subject', 'value': 'Fantasy Sports', 'isMajor': None, 'rank': 2}, {'name': 'persons', 'value': 'Freeman, Devonta (1992- )', 'isMajor': None, 'rank': 3}], 'new_desk': 'Sports', 'word_count': 2909, 'headline': {'main': 'Fantasy Football Week 5: Rankings and Matchup Analysis'}, 'multimedia': [{'width': 190, 'rank': 0, 'height': 126, 'subtype': 'wide', 'url': 'images/2015/10/10/sports/10fantasy1/10fantasy1-thumbWide.jpg', 'legacy': {'wideheight': '126', 'wide': 'images/2015/10/10/sports/10fantasy1/10fantasy1-thumbWide.jpg', 'widewidth': '190'}, 'type': 'image'}, {'width': 600, 'rank': 0, 'height': 400, 'subtype': 'xlarge', 'url': 'images/2015/10/10/sports/10fantasy1/10fantasy1-articleLarge.jpg', 'legacy': {'xlargewidth': '600', 'xlargeheight': '400', 'xlarge': 'images/2015/10/10/sports/10fantasy1/10fantasy1-articleLarge.jpg'}, 'type': 'image'}, {'width': 75, 'rank': 0, 'height': 75, 'subtype': 'thumbnail', 'url': 'images/2015/10/10/sports/10fantasy1/10fantasy1-thumbStandard.jpg', 'legacy': {'thumbnailwidth': '75', 'thumbnail': 'images/2015/10/10/sports/10fantasy1/10fantasy1-thumbStandard.jpg', 'thumbnailheight': '75'}, 'type': 'image'}], '_id': '5618111e38f0d814e13702e1', 'web_url': 'https://www.nytimes.com/2015/10/10/sports/football/fantasy-football-week-5-rankings-and-matchup-analysis.html', 'document_type': 'article', 'pub_date': '2015-10-10T00:00:00Z', 'type_of_material': 'News', 'section_name': 'Pro Football', 'snippet': 'Is Devonta Freeman for real? More on this, and fantasy football notes for every remaining Week 5 game.', 'blog': {}, 'score': 5.6799815e-28, 'byline': {'original': 'By JASON SABLICH and JUSTIN SABLICH'}, 'source': 'The New York Times'}, {'keywords': [{'name': 'subject', 'value': 'Deaths (Obituaries)', 'isMajor': None, 'rank': 1}, {'name': 'subject', 'value': 'Jazz', 'isMajor': None, 'rank': 2}, {'name': 'subject', 'value': 'Saxophones', 'isMajor': None, 'rank': 3}, {'name': 'persons', 'value': 'Woods, Phil (1931-2015)', 'isMajor': None, 'rank': 4}], 'new_desk': 'Culture', 'abstract': 'Phil Woods, a leading alto saxophonist in the generation that followed Charlie Parker, and who became a protegee of the bebop pioneer Dizzy Gillespie in the 1950s, ultimately winning four Grammy Awards and a Living Jazz Legend Award from the Kennedy Center, dies at age 83. ', 'word_count': 724, 'document_type': 'article', 'source': 'The New York Times', '_id': '560b30a238f0d84e27991244', 'web_url': 'https://www.nytimes.com/2015/09/30/arts/music/phil-woods-saxophonist-revered-in-jazz-dies-at-83.html', 'headline': {'print_headline': 'Phil Woods, Saxophonist Revered in Jazz, Dies at 83', 'main': 'Phil Woods, Saxophonist Revered in Jazz and Heard on Hits, Dies at 83'}, 'pub_date': '2015-09-30T00:00:00Z', 'type_of_material': 'Obituary', 'section_name': 'Music', 'snippet': 'Mr. Woods was a disciple of Charlie Parker and was widely heard on songs by Billy Joel, Paul Simon and others.', 'blog': {}, 'score': 1.594453e-28, 'byline': {'original': 'By NATE CHINEN'}, 'print_page': '18', 'multimedia': [{'width': 190, 'rank': 0, 'height': 126, 'subtype': 'wide', 'url': 'images/2015/09/30/arts/30woods-obit/30woods-obit-thumbWide.jpg', 'legacy': {'wideheight': '126', 'wide': 'images/2015/09/30/arts/30woods-obit/30woods-obit-thumbWide.jpg', 'widewidth': '190'}, 'type': 'image'}, {'width': 600, 'rank': 0, 'height': 900, 'subtype': 'xlarge', 'url': 'images/2015/09/30/arts/30woods-obit/30woods-obit-articleLarge.jpg', 'legacy': {'xlargewidth': '600', 'xlargeheight': '900', 'xlarge': 'images/2015/09/30/arts/30woods-obit/30woods-obit-articleLarge.jpg'}, 'type': 'image'}, {'width': 75, 'rank': 0, 'height': 75, 'subtype': 'thumbnail', 'url': 'images/2015/09/30/arts/30woods-obit/30woods-obit-thumbStandard.jpg', 'legacy': {'thumbnailwidth': '75', 'thumbnail': 'images/2015/09/30/arts/30woods-obit/30woods-obit-thumbStandard.jpg', 'thumbnailheight': '75'}, 'type': 'image'}]}, {'keywords': [{'name': 'subject', 'value': 'Music', 'isMajor': None, 'rank': 1}, {'name': 'subject', 'value': 'Jazz', 'isMajor': None, 'rank': 2}], 'new_desk': 'Weekend', 'word_count': 1769, 'headline': {'print_headline': 'The Listings: Jazz', 'main': 'Jazz Listings for Oct. 2-8'}, 'source': 'The New York Times', '_id': '560db8bb38f0d81aa77a51d2', 'web_url': 'https://www.nytimes.com/2015/10/02/arts/music/jazz-listings-for-oct-2-8.html', 'document_type': 'article', 'pub_date': '2015-10-02T00:00:00Z', 'type_of_material': 'Schedule', 'section_name': 'Music', 'snippet': 'A selected guide to jazz performances in New York City.', 'blog': {}, 'score': 1.3322561e-28, 'byline': {'original': None}, 'print_page': '19', 'multimedia': [{'width': 190, 'rank': 0, 'height': 126, 'subtype': 'wide', 'url': 'images/2015/10/02/arts/02LISTINGSJAZZ/02LISTINGSJAZZ-thumbWide.jpg', 'legacy': {'wideheight': '126', 'wide': 'images/2015/10/02/arts/02LISTINGSJAZZ/02LISTINGSJAZZ-thumbWide.jpg', 'widewidth': '190'}, 'type': 'image'}, {'width': 600, 'rank': 0, 'height': 400, 'subtype': 'xlarge', 'url': 'images/2015/10/02/arts/02LISTINGSJAZZ/02LISTINGSJAZZ-articleLarge.jpg', 'legacy': {'xlargewidth': '600', 'xlargeheight': '400', 'xlarge': 'images/2015/10/02/arts/02LISTINGSJAZZ/02LISTINGSJAZZ-articleLarge.jpg'}, 'type': 'image'}, {'width': 75, 'rank': 0, 'height': 75, 'subtype': 'thumbnail', 'url': 'images/2015/10/02/arts/02LISTINGSJAZZ/02LISTINGSJAZZ-thumbStandard.jpg', 'legacy': {'thumbnailwidth': '75', 'thumbnail': 'images/2015/10/02/arts/02LISTINGSJAZZ/02LISTINGSJAZZ-thumbStandard.jpg', 'thumbnailheight': '75'}, 'type': 'image'}]}, {'keywords': [{'name': 'subject', 'value': 'Music', 'isMajor': None, 'rank': 1}, {'name': 'subject', 'value': 'Jazz', 'isMajor': None, 'rank': 2}, {'name': 'organizations', 'value': 'Metropolitan Room', 'isMajor': None, 'rank': 3}, {'name': 'persons', 'value': 'Harms, Nancy (Singer)', 'isMajor': None, 'rank': 4}], 'new_desk': 'Culture', 'abstract': 'Stephen Holden reviews performance by jazz singer Nancy Harms at Metropolitan Room.', 'word_count': 326, 'document_type': 'article', 'source': 'The New York Times', '_id': '55ef4b7638f0d867b4c8968b', 'web_url': 'https://www.nytimes.com/2015/09/09/arts/music/nancy-harms-celebrates-duke-ellington.html', 'headline': {'print_headline': 'Filtering the Ellington Canon Through a Moody Nocturnal Lens ', 'main': 'Nancy Harms Celebrates Duke Ellington'}, 'pub_date': '2015-09-09T00:00:00Z', 'type_of_material': 'Review', 'section_name': 'Music', 'snippet': 'Ms. Harms sang a program of songs associated with Duke Ellington, including &#8220;Mood Indigo,&#8221; at the Metropolitan Room.', 'blog': {}, 'score': 6.058644e-29, 'byline': {'original': 'By STEPHEN HOLDEN'}, 'print_page': '2', 'multimedia': []}, {'keywords': [{'name': 'subject', 'value': 'Deaths (Obituaries)', 'isMajor': None, 'rank': 1}, {'name': 'subject', 'value': 'Documentary Films and Programs', 'isMajor': None, 'rank': 2}, {'name': 'persons', 'value': 'Ellington, Duke', 'isMajor': None, 'rank': 3}, {'name': 'subject', 'value': 'Jazz', 'isMajor': None, 'rank': 4}, {'name': 'persons', 'value': 'Keys, Gary (1934-2015)', 'isMajor': None, 'rank': 5}], 'new_desk': 'Culture', 'abstract': 'Gary Keys, a documentary filmmaker who captured some of the most important figures in jazz from the 1960s through the 1980s, most notably Duke Ellington, dies at age 81.  ', 'word_count': 523, 'document_type': 'article', 'source': 'The New York Times', '_id': '55e39f4738f0d84c14715dc4', 'web_url': 'https://www.nytimes.com/2015/08/31/movies/gary-keys-filmmaker-who-documented-duke-ellington-dies-at-81.html', 'headline': {'print_headline': 'Gary Keys, 81, Ellington Documentarian', 'main': 'Gary Keys, Filmmaker Who Documented Duke Ellington, Dies at 81'}, 'pub_date': '2015-08-31T00:00:00Z', 'type_of_material': 'Obituary', 'snippet': 'Mr. Keys produced concerts at Carnegie Hall and Lincoln Center by Stan Getz, Dionne Warwick, the Supremes, Simon and Garfunkel, Judy Garland and Stevie Wonder.', 'blog': {}, 'score': 1.620911e-29, 'byline': {'original': 'By WILLIAM GRIMES'}, 'print_page': '7', 'multimedia': [{'width': 190, 'rank': 0, 'height': 126, 'subtype': 'wide', 'url': 'images/2015/08/31/arts/31KEYS-obit/31KEYS-obit-thumbWide-v2.jpg', 'legacy': {'wideheight': '126', 'wide': 'images/2015/08/31/arts/31KEYS-obit/31KEYS-obit-thumbWide-v2.jpg', 'widewidth': '190'}, 'type': 'image'}, {'width': 600, 'rank': 0, 'height': 415, 'subtype': 'xlarge', 'url': 'images/2015/08/31/arts/31KEYS-obit/31KEYS-obit-articleLarge-v2.jpg', 'legacy': {'xlargewidth': '600', 'xlargeheight': '415', 'xlarge': 'images/2015/08/31/arts/31KEYS-obit/31KEYS-obit-articleLarge-v2.jpg'}, 'type': 'image'}, {'width': 75, 'rank': 0, 'height': 75, 'subtype': 'thumbnail', 'url': 'images/2015/08/31/arts/31KEYS-obit/31KEYS-obit-thumbStandard.jpg', 'legacy': {'thumbnailwidth': '75', 'thumbnail': 'images/2015/08/31/arts/31KEYS-obit/31KEYS-obit-thumbStandard.jpg', 'thumbnailheight': '75'}, 'type': 'image'}]}, {'keywords': [{'name': 'subject', 'value': 'Books and Literature', 'isMajor': None, 'rank': 1}, {'name': 'persons', 'value': 'Jefferson, Margo', 'isMajor': None, 'rank': 2}, {'name': 'subject', 'value': 'Blacks', 'isMajor': None, 'rank': 3}, {'name': 'creative_works', 'value': 'Negroland: A Memoir (Book)', 'isMajor': None, 'rank': 4}], 'new_desk': 'Weekend', 'abstract': 'Dwight Garner reviews book Negroland: A Memoir by Margo Jefferson. ', 'word_count': 1122, 'document_type': 'article', 'source': '', '_id': '55f1fcd138f0d824d9bc6c83', 'web_url': 'https://www.nytimes.com/2015/09/11/books/review-negroland-by-margo-jefferson-on-growing-up-black-and-privileged.html', 'headline': {'print_headline': '&#8216;Good Negro Girl&#8217; Has Her Say ', 'main': 'Review: &#8216;Negroland,&#8217; by Margo Jefferson, on Growing Up Black and Privileged', 'kicker': 'Books of The Times'}, 'pub_date': '2015-09-11T00:00:00Z', 'type_of_material': 'Review', 'snippet': 'Ms. Jefferson, a former critic for The New York Times, writes about growing up in a privileged family in Chicago yet persistently feeling the effects of racism.', 'blog': {}, 'score': 4.468753e-30, 'byline': {'original': 'By DWIGHT GARNER'}, 'print_page': '21', 'multimedia': [{'width': 190, 'rank': 0, 'height': 126, 'subtype': 'wide', 'url': 'images/2015/09/11/arts/11BOOK/11BOOK-thumbWide.jpg', 'legacy': {'wideheight': '126', 'wide': 'images/2015/09/11/arts/11BOOK/11BOOK-thumbWide.jpg', 'widewidth': '190'}, 'type': 'image'}, {'width': 600, 'rank': 0, 'height': 780, 'subtype': 'xlarge', 'url': 'images/2015/09/11/arts/0911BOOKJEFFERSONJP1/0911BOOKJEFFERSONJP1-articleLarge-v2.jpg', 'legacy': {'xlargewidth': '600', 'xlargeheight': '780', 'xlarge': 'images/2015/09/11/arts/0911BOOKJEFFERSONJP1/0911BOOKJEFFERSONJP1-articleLarge-v2.jpg'}, 'type': 'image'}, {'width': 75, 'rank': 0, 'height': 75, 'subtype': 'thumbnail', 'url': 'images/2015/09/11/arts/11BOOK/11BOOK-thumbStandard.jpg', 'legacy': {'thumbnailwidth': '75', 'thumbnail': 'images/2015/09/11/arts/11BOOK/11BOOK-thumbStandard.jpg', 'thumbnailheight': '75'}, 'type': 'image'}]}, {'keywords': [], 'new_desk': 'Summary', 'word_count': 594, 'headline': {'print_headline': 'Corrections', 'main': 'Corrections: September 3, 2015'}, 'source': 'The New York Times', '_id': '55e7e91638f0d80b7eeea706', 'web_url': 'https://www.nytimes.com/2015/09/03/pageoneplus/corrections-september-3-2015.html', 'document_type': 'article', 'pub_date': '2015-09-03T00:00:00Z', 'type_of_material': 'News', 'snippet': 'Corrections appearing in print on Thursday, September 3, 2015.', 'blog': {}, 'score': 2.7708687e-30, 'byline': {'original': None}, 'print_page': '2', 'multimedia': []}, {'keywords': [{'name': 'persons', 'value': 'KEYS, GARY', 'isMajor': None, 'rank': 0}], 'new_desk': 'Classified', 'word_count': 195, 'headline': {'main': 'Paid Notice: Deaths  KEYS, GARY'}, 'source': 'The New York Times', '_id': '55dd2c6838f0d8657895ea0f', 'web_url': 'https://query.nytimes.com/gst/fullpage.html?res=9901E4DD143AF93BA2575BC0A9639D8B63', 'document_type': 'article', 'pub_date': '2015-08-18T00:00:00Z', 'type_of_material': 'Paid Death Notice', 'snippet': 'KEYS--Gary. 81, of New York City and Negro Harbour, Nova Scotia passed away on Sunday, August 9. In the sixties he distinguished himself in the jazz world by producing the first jazz and pop concerts at Lincoln Center and Carnegie Hall featuring T...', 'blog': {}, 'score': 1.8786799e-31, 'print_page': '14', 'multimedia': []}]\n"
     ]
    }
   ],
   "source": [
    "print(data['response']['docs'])"
   ]
  },
  {
   "cell_type": "markdown",
   "metadata": {},
   "source": [
    "That looks what we want! Let's put that in its own variable."
   ]
  },
  {
   "cell_type": "code",
   "execution_count": 33,
   "metadata": {
    "collapsed": false
   },
   "outputs": [],
   "source": [
    "docs = data['response']['docs']"
   ]
  },
  {
   "cell_type": "markdown",
   "metadata": {},
   "source": [
    "So that we can further manipulate this, we need to know what type of object it is."
   ]
  },
  {
   "cell_type": "code",
   "execution_count": 34,
   "metadata": {
    "collapsed": false
   },
   "outputs": [
    {
     "data": {
      "text/plain": [
       "list"
      ]
     },
     "execution_count": 34,
     "metadata": {},
     "output_type": "execute_result"
    }
   ],
   "source": [
    "type(docs)"
   ]
  },
  {
   "cell_type": "markdown",
   "metadata": {},
   "source": [
    "That makes things easy. Let's take a look at the first doc."
   ]
  },
  {
   "cell_type": "code",
   "execution_count": 35,
   "metadata": {
    "collapsed": false
   },
   "outputs": [
    {
     "data": {
      "text/plain": [
       "{'_id': '561c30a038f0d84d2f3b8a88',\n",
       " 'abstract': \"Brian Seibert reviews New York premiere of John Heginbotham dance piece Easy Win, and company debut of Angels' Share, performed by Dance Heginbotham troupe at Joyce Theater. \",\n",
       " 'blog': {},\n",
       " 'byline': {'original': 'By BRIAN SEIBERT'},\n",
       " 'document_type': 'article',\n",
       " 'headline': {'main': 'Review: Dance Heginbotham Shows Off Its Eccentric Style at the Joyce',\n",
       "  'print_headline': 'Mixing Whimsy and Sadness'},\n",
       " 'keywords': [{'isMajor': None,\n",
       "   'name': 'subject',\n",
       "   'rank': 1,\n",
       "   'value': 'Dancing'},\n",
       "  {'isMajor': None,\n",
       "   'name': 'persons',\n",
       "   'rank': 2,\n",
       "   'value': 'Heginbotham, John'},\n",
       "  {'isMajor': None,\n",
       "   'name': 'organizations',\n",
       "   'rank': 3,\n",
       "   'value': 'Joyce Theater'},\n",
       "  {'isMajor': None,\n",
       "   'name': 'organizations',\n",
       "   'rank': 4,\n",
       "   'value': 'Dance Heginbotham'}],\n",
       " 'multimedia': [{'height': 126,\n",
       "   'legacy': {'wide': 'images/2015/10/13/arts/13HIGGENBOTTOM/13HIGGENBOTTOM-thumbWide-v2.jpg',\n",
       "    'wideheight': '126',\n",
       "    'widewidth': '190'},\n",
       "   'rank': 0,\n",
       "   'subtype': 'wide',\n",
       "   'type': 'image',\n",
       "   'url': 'images/2015/10/13/arts/13HIGGENBOTTOM/13HIGGENBOTTOM-thumbWide-v2.jpg',\n",
       "   'width': 190},\n",
       "  {'height': 401,\n",
       "   'legacy': {'xlarge': 'images/2015/10/13/arts/13HIGGENBOTTOM/13HIGGENBOTTOM-articleLarge-v2.jpg',\n",
       "    'xlargeheight': '401',\n",
       "    'xlargewidth': '600'},\n",
       "   'rank': 0,\n",
       "   'subtype': 'xlarge',\n",
       "   'type': 'image',\n",
       "   'url': 'images/2015/10/13/arts/13HIGGENBOTTOM/13HIGGENBOTTOM-articleLarge-v2.jpg',\n",
       "   'width': 600},\n",
       "  {'height': 75,\n",
       "   'legacy': {'thumbnail': 'images/2015/10/13/arts/13HIGGENBOTTOM/13HIGGENBOTTOM-thumbStandard-v2.jpg',\n",
       "    'thumbnailheight': '75',\n",
       "    'thumbnailwidth': '75'},\n",
       "   'rank': 0,\n",
       "   'subtype': 'thumbnail',\n",
       "   'type': 'image',\n",
       "   'url': 'images/2015/10/13/arts/13HIGGENBOTTOM/13HIGGENBOTTOM-thumbStandard-v2.jpg',\n",
       "   'width': 75}],\n",
       " 'new_desk': 'Culture',\n",
       " 'print_page': '5',\n",
       " 'pub_date': '2015-10-13T00:00:00Z',\n",
       " 'score': 2.3436928e-27,\n",
       " 'section_name': 'Dance',\n",
       " 'snippet': 'John Heginbotham, a choreographer who used to perform with the Mark Morris Dance Group, drew on those years for his latest program.',\n",
       " 'source': 'The New York Times',\n",
       " 'type_of_material': 'Review',\n",
       " 'web_url': 'https://www.nytimes.com/2015/10/13/arts/dance/review-dance-heginbotham-shows-off-its-eccentric-style-at-the-joyce.html',\n",
       " 'word_count': 371}"
      ]
     },
     "execution_count": 35,
     "metadata": {},
     "output_type": "execute_result"
    }
   ],
   "source": [
    "docs[0]"
   ]
  },
  {
   "cell_type": "markdown",
   "metadata": {},
   "source": [
    "## 3. Putting everything together to get all the articles.\n",
    "*****"
   ]
  },
  {
   "cell_type": "markdown",
   "metadata": {},
   "source": [
    "That's great. But we only have 10 items. The original response said we had 65 hits! Which means we have to make 65 /10, or 7 requests to get them all. Sounds like a job for a loop! \n",
    "\n",
    "But first, let's review what we've done so far."
   ]
  },
  {
   "cell_type": "code",
   "execution_count": 41,
   "metadata": {
    "collapsed": false
   },
   "outputs": [
    {
     "name": "stdout",
     "output_type": "stream",
     "text": [
      "number of hits:  65\n",
      "collecting page 0\n",
      "collecting page 1\n",
      "collecting page 2\n",
      "collecting page 3\n",
      "collecting page 4\n",
      "collecting page 5\n",
      "collecting page 6\n"
     ]
    }
   ],
   "source": [
    "# set key\n",
    "key = \"be8992a420bfd16cf65e8757f77a5403:8:44644296\"\n",
    "\n",
    "# set base url\n",
    "base_url = \"https://api.nytimes.com/svc/search/v2/articlesearch.json\"\n",
    "\n",
    "# set search parameters\n",
    "search_params = {\"q\": \"Duke Ellington\",\n",
    "                 \"api-key\": key,\n",
    "                 \"begin_date\": \"20150101\",  # date must be in YYYYMMDD format\n",
    "                 \"end_date\": \"20151231\"}\n",
    "\n",
    "# make request\n",
    "r = requests.get(base_url, params=search_params)\n",
    "\n",
    "# wait 3 seconds for the GET request\n",
    "time.sleep(3)\n",
    "\n",
    "# convert to a dictionary\n",
    "data = json.loads(r.text)\n",
    "\n",
    "# get number of hits\n",
    "hits = data['response']['meta']['hits']\n",
    "print(\"number of hits: \", str(hits))\n",
    "\n",
    "# get number of pages\n",
    "pages = int(math.ceil(hits / 10))\n",
    "\n",
    "# make an empty list where we'll hold all of our docs for every page\n",
    "all_docs = []\n",
    "\n",
    "# now we're ready to loop through the pages\n",
    "for i in range(pages):\n",
    "    print(\"collecting page\", str(i))\n",
    "\n",
    "    # set the page parameter\n",
    "    search_params['page'] = i\n",
    "\n",
    "    # make request\n",
    "    r = requests.get(base_url, params=search_params)\n",
    "\n",
    "    # get text and convert to a dictionary\n",
    "    data = json.loads(r.text)\n",
    "\n",
    "    # get just the docs\n",
    "    docs = data['response']['docs']\n",
    "\n",
    "    # add those docs to the big list\n",
    "    all_docs = all_docs + docs\n",
    "\n",
    "    time.sleep(3)  # pause between calls"
   ]
  },
  {
   "cell_type": "markdown",
   "metadata": {},
   "source": [
    "Let's make sure we got all the articles."
   ]
  },
  {
   "cell_type": "code",
   "execution_count": 43,
   "metadata": {
    "collapsed": false
   },
   "outputs": [],
   "source": [
    "assert len(all_docs) == data['response']['meta']['hits']"
   ]
  },
  {
   "cell_type": "markdown",
   "metadata": {},
   "source": [
    "We did it!"
   ]
  },
  {
   "cell_type": "markdown",
   "metadata": {},
   "source": [
    "### Challenge 3: Make a function\n",
    "\n",
    "Using the code above, create a function called `get_api_data()` with the parameters `term` and a `year`, and returns all the documents containing that search term in that year."
   ]
  },
  {
   "cell_type": "code",
   "execution_count": null,
   "metadata": {
    "collapsed": false
   },
   "outputs": [],
   "source": [
    "# DEFINE YOUR FUNCTION HERE"
   ]
  },
  {
   "cell_type": "code",
   "execution_count": null,
   "metadata": {
    "collapsed": false
   },
   "outputs": [],
   "source": [
    "# uncomment to test\n",
    "# get_api_data(\"Duke Ellington\", 2014)"
   ]
  },
  {
   "cell_type": "markdown",
   "metadata": {},
   "source": [
    "## 4. Formatting\n",
    "*****\n",
    "\n",
    "Let's take another look at one of these documents."
   ]
  },
  {
   "cell_type": "code",
   "execution_count": null,
   "metadata": {
    "collapsed": false
   },
   "outputs": [],
   "source": [
    "all_docs[0]"
   ]
  },
  {
   "cell_type": "markdown",
   "metadata": {},
   "source": [
    "This is all great, but it's pretty messy. What we’d really like to to have, eventually, is a CSV, with each row representing an article, and each column representing something about that article (header, date, etc). As we saw before, the best way to do this is to make a list of dictionaries, with each dictionary representing an article and each dictionary representing a field of metadata from that article (e.g. headline, date, etc.) We can do this with a custom function:"
   ]
  },
  {
   "cell_type": "code",
   "execution_count": null,
   "metadata": {
    "collapsed": true
   },
   "outputs": [],
   "source": [
    "def format_articles(unformatted_docs):\n",
    "    '''\n",
    "    This function takes in a list of documents returned by the NYT api \n",
    "    and parses the documents into a list of dictionaries, \n",
    "    with 'id', 'header', and 'date' keys\n",
    "    '''\n",
    "    formatted = []\n",
    "    for i in unformatted_docs:\n",
    "        dic = {}\n",
    "        dic['id'] = i['_id']\n",
    "        dic['headline'] = i['headline']['main']\n",
    "        dic['date'] = i['pub_date'][0:10]  # cutting time of day.\n",
    "        formatted.append(dic)\n",
    "    return(formatted)"
   ]
  },
  {
   "cell_type": "code",
   "execution_count": null,
   "metadata": {
    "collapsed": false
   },
   "outputs": [],
   "source": [
    "all_formatted = format_articles(all_docs)"
   ]
  },
  {
   "cell_type": "code",
   "execution_count": null,
   "metadata": {
    "collapsed": false
   },
   "outputs": [],
   "source": [
    "all_formatted[:5]"
   ]
  },
  {
   "cell_type": "markdown",
   "metadata": {},
   "source": [
    "### Challenge 4: Collect more fields\n",
    "\n",
    "Edit the function above so that we include the `lead_paragraph` and `word_count` fields.\n",
    "\n",
    "**HINT**: Some articles may not contain a lead_paragraph, in which case, it'll throw an error if you try to address this value (which doesn't exist.) You need to add a conditional statement that takes this into consideraiton. If\n",
    "\n",
    "**Advanced**: Add another key that returns a list of `keywords` associated with the article."
   ]
  },
  {
   "cell_type": "code",
   "execution_count": null,
   "metadata": {
    "collapsed": true
   },
   "outputs": [],
   "source": [
    "def format_articles(unformatted_docs):\n",
    "    '''\n",
    "    This function takes in a list of documents returned by the NYT api \n",
    "    and parses the documents into a list of dictionaries, \n",
    "    with 'id', 'header', 'date', 'lead paragrph' and 'word count' keys\n",
    "    '''\n",
    "    formatted = []\n",
    "    for i in unformatted_docs:\n",
    "        dic = {}\n",
    "        dic['id'] = i['_id']\n",
    "        dic['headline'] = i['headline']['main']\n",
    "        dic['date'] = i['pub_date'][0:10]  # cutting time of day.\n",
    "\n",
    "        # YOUR CODE HERE\n",
    "\n",
    "        formatted.append(dic)\n",
    "    return(formatted)"
   ]
  },
  {
   "cell_type": "code",
   "execution_count": null,
   "metadata": {
    "collapsed": false
   },
   "outputs": [],
   "source": [
    "# uncomment to test\n",
    "# all_formatted = format_articles(all_docs)\n",
    "# all_formatted[:5]"
   ]
  },
  {
   "cell_type": "markdown",
   "metadata": {},
   "source": [
    "## 5. Exporting\n",
    "*****\n",
    "\n",
    "We can now export the data to a CSV."
   ]
  },
  {
   "cell_type": "code",
   "execution_count": null,
   "metadata": {
    "collapsed": false
   },
   "outputs": [],
   "source": [
    "keys = all_formatted[1]\n",
    "# writing the rest\n",
    "with open('all-formated.csv', 'w') as output_file:\n",
    "    dict_writer = csv.DictWriter(output_file, keys)\n",
    "    dict_writer.writeheader()\n",
    "    dict_writer.writerows(all_formatted)"
   ]
  },
  {
   "cell_type": "markdown",
   "metadata": {},
   "source": [
    "## Capstone Challenge\n",
    "\n",
    "Using what you learned, tell me if Chris' claim (i.e. that Duke Ellington has gotten more popular lately) holds water."
   ]
  },
  {
   "cell_type": "code",
   "execution_count": null,
   "metadata": {
    "collapsed": true
   },
   "outputs": [],
   "source": [
    "# YOUR CODE HERE"
   ]
  }
 ],
 "metadata": {
  "anaconda-cloud": {},
  "kernelspec": {
   "display_name": "Python 3",
   "language": "python",
   "name": "python3"
  },
  "language_info": {
   "codemirror_mode": {
    "name": "ipython",
    "version": 3
   },
   "file_extension": ".py",
   "mimetype": "text/x-python",
   "name": "python",
   "nbconvert_exporter": "python",
   "pygments_lexer": "ipython3",
   "version": "3.5.1"
  }
 },
 "nbformat": 4,
 "nbformat_minor": 0
}
